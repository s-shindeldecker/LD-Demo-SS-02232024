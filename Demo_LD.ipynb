{
 "cells": [
  {
   "cell_type": "code",
   "execution_count": 2,
   "id": "1883c2c0",
   "metadata": {},
   "outputs": [
    {
     "name": "stdout",
     "output_type": "stream",
     "text": [
      "Looking in indexes: https://artifactory.allstate.com/artifactory/api/pypi/pypi/simple\n",
      "Collecting Faker\n",
      "  Downloading https://artifactory.allstate.com/artifactory/api/pypi/pypi/packages/packages/40/f7/c88578e2bbb7e8940dd552d175300a6e8e9ee2f8d84fddad8e6acfe0e6cf/Faker-23.2.1-py3-none-any.whl (1.7 MB)\n",
      "\u001b[2K     \u001b[90m━━━━━━━━━━━━━━━━━━━━━━━━━━━━━━━━━━━━━━━━\u001b[0m \u001b[32m1.7/1.7 MB\u001b[0m \u001b[31m4.5 MB/s\u001b[0m eta \u001b[36m0:00:00\u001b[0m00:01\u001b[0m00:01\u001b[0m\n",
      "\u001b[?25hRequirement already satisfied: python-dateutil>=2.4 in /opt/conda/lib/python3.8/site-packages (from Faker) (2.8.2)\n",
      "Requirement already satisfied: typing-extensions>=3.10.0.1 in /opt/conda/lib/python3.8/site-packages (from Faker) (4.0.1)\n",
      "Requirement already satisfied: six>=1.5 in /opt/conda/lib/python3.8/site-packages (from python-dateutil>=2.4->Faker) (1.16.0)\n",
      "Installing collected packages: Faker\n",
      "Successfully installed Faker-23.2.1\n",
      "Note: you may need to restart the kernel to use updated packages.\n"
     ]
    }
   ],
   "source": [
    "pip install Faker"
   ]
  },
  {
   "cell_type": "code",
   "execution_count": 3,
   "id": "6b982bf1",
   "metadata": {},
   "outputs": [
    {
     "name": "stdout",
     "output_type": "stream",
     "text": [
      "Looking in indexes: https://artifactory.allstate.com/artifactory/api/pypi/pypi/simple\n",
      "Collecting launchdarkly-server-sdk\n",
      "  Downloading https://artifactory.allstate.com/artifactory/api/pypi/pypi/packages/packages/64/40/9ca87cba12272e03cebe3af1b7c15cb9eeb1b25f43d2649d29c701cbace2/launchdarkly_server_sdk-9.2.0-py3-none-any.whl (205 kB)\n",
      "\u001b[2K     \u001b[90m━━━━━━━━━━━━━━━━━━━━━━━━━━━━━━━━━━━━━━━\u001b[0m \u001b[32m205.2/205.2 KB\u001b[0m \u001b[31m7.1 MB/s\u001b[0m eta \u001b[36m0:00:00\u001b[0m\n",
      "\u001b[?25hRequirement already satisfied: certifi>=2018.4.16 in /opt/conda/lib/python3.8/site-packages (from launchdarkly-server-sdk) (2021.10.8)\n",
      "Collecting expiringdict>=1.1.4\n",
      "  Downloading https://artifactory.allstate.com/artifactory/api/pypi/pypi/packages/packages/cb/84/a04c59324445f4bcc98dc05b39a1cd07c242dde643c1a3c21e4f7beaf2f2/expiringdict-1.2.2-py3-none-any.whl (8.5 kB)\n",
      "Collecting semver>=2.10.2\n",
      "  Downloading https://artifactory.allstate.com/artifactory/api/pypi/pypi/packages/packages/9a/77/0cc7a8a3bc7e53d07e8f47f147b92b0960e902b8254859f4aee5c4d7866b/semver-3.0.2-py3-none-any.whl (17 kB)\n",
      "Requirement already satisfied: urllib3<3,>=1.22.0 in /opt/conda/lib/python3.8/site-packages (from launchdarkly-server-sdk) (1.26.15)\n",
      "Collecting launchdarkly-eventsource<2.0.0,>=1.1.0\n",
      "  Downloading https://artifactory.allstate.com/artifactory/api/pypi/pypi/packages/packages/15/97/e10cebd312da1dfc8cee581a45129687e85e75ca35d36c6d484d05febfc0/launchdarkly_eventsource-1.1.0-py3-none-any.whl (28 kB)\n",
      "Collecting pyRFC3339>=1.0\n",
      "  Downloading https://artifactory.allstate.com/artifactory/api/pypi/pypi/packages/packages/c1/7a/725f5c16756ec6211b1e7eeac09f469084595513917ea069bc023c40a5e2/pyRFC3339-1.1-py2.py3-none-any.whl (5.7 kB)\n",
      "Requirement already satisfied: pytz in /opt/conda/lib/python3.8/site-packages (from pyRFC3339>=1.0->launchdarkly-server-sdk) (2021.3)\n",
      "Installing collected packages: expiringdict, semver, pyRFC3339, launchdarkly-eventsource, launchdarkly-server-sdk\n",
      "Successfully installed expiringdict-1.2.2 launchdarkly-eventsource-1.1.0 launchdarkly-server-sdk-9.2.0 pyRFC3339-1.1 semver-3.0.2\n",
      "Note: you may need to restart the kernel to use updated packages.\n"
     ]
    }
   ],
   "source": [
    "pip install launchdarkly-server-sdk"
   ]
  },
  {
   "cell_type": "code",
   "execution_count": 4,
   "id": "a8e22fa5",
   "metadata": {},
   "outputs": [],
   "source": [
    "import random\n",
    "from faker import Faker\n",
    "import pandas as pd\n",
    "import random\n",
    "import time\n",
    "import uuid\n",
    "import urllib3\n",
    "urllib3.disable_warnings(urllib3.exceptions.InsecureRequestWarning)"
   ]
  },
  {
   "cell_type": "markdown",
   "id": "7a638355",
   "metadata": {},
   "source": [
    "## This is my fake Current \"Policy Bind Model\" - it always returns 1\n",
    "The input \"features\" dont do anything, but are just there to make it kind of resemble calling a predictive model with user characteristics\n",
    "\n",
    "Not very useful in real life, but great for demonstration purposes"
   ]
  },
  {
   "cell_type": "code",
   "execution_count": 15,
   "id": "27367f88",
   "metadata": {},
   "outputs": [],
   "source": [
    "def predict(name, age, state):\n",
    "    return 1"
   ]
  },
  {
   "cell_type": "markdown",
   "id": "f9ae944c",
   "metadata": {},
   "source": [
    "## This is my fake New \"Policy Bind Model\" -- it returns a random number, always less than 1\n",
    "The input \"features\" dont do anything, but are just there to make it kind of resemble calling a predictive model with user characteristics\n",
    "\n",
    "This helps show a real difference between when one \"model\" is being executed instead of the other"
   ]
  },
  {
   "cell_type": "code",
   "execution_count": 16,
   "id": "46795577",
   "metadata": {},
   "outputs": [],
   "source": [
    "def predict_v2(name, age, state):\n",
    "    return random.random()   "
   ]
  },
  {
   "cell_type": "markdown",
   "id": "96391646",
   "metadata": {},
   "source": [
    "## Using the Faker package, create some fake user data.   \n",
    "The data isn't going to be clean, states and addresses do not match, but that isn't needed for the demo.\n"
   ]
  },
  {
   "cell_type": "code",
   "execution_count": 17,
   "id": "6ae508f0",
   "metadata": {},
   "outputs": [],
   "source": [
    "fake = Faker()\n",
    "\n",
    "def create_fake_records(num=1000):\n",
    "    records = []\n",
    "    for _ in range(num):\n",
    "        record = {\n",
    "            'uuid' : str(uuid.uuid4()),\n",
    "            'name': fake.name(),\n",
    "            'address': fake.address(),\n",
    "            'email': fake.email(),\n",
    "            'state': fake.state(),\n",
    "            'age': random.randint(18, 99),  # Example: Generate random ages\n",
    "            # Add more columns as needed\n",
    "        }\n",
    "        records.append(record)\n",
    "\n",
    "    # Create a DataFrame from the list of records\n",
    "    df = pd.DataFrame(records)\n",
    "    return df"
   ]
  },
  {
   "cell_type": "markdown",
   "id": "e14d79ad",
   "metadata": {},
   "source": [
    "### Change the num parameter here to generate more records"
   ]
  },
  {
   "cell_type": "code",
   "execution_count": 18,
   "id": "31745efe",
   "metadata": {},
   "outputs": [],
   "source": [
    "fake_df = create_fake_records(num=20)"
   ]
  },
  {
   "cell_type": "code",
   "execution_count": 19,
   "id": "4ad7f124",
   "metadata": {},
   "outputs": [
    {
     "data": {
      "text/html": [
       "<div>\n",
       "<style scoped>\n",
       "    .dataframe tbody tr th:only-of-type {\n",
       "        vertical-align: middle;\n",
       "    }\n",
       "\n",
       "    .dataframe tbody tr th {\n",
       "        vertical-align: top;\n",
       "    }\n",
       "\n",
       "    .dataframe thead th {\n",
       "        text-align: right;\n",
       "    }\n",
       "</style>\n",
       "<table border=\"1\" class=\"dataframe\">\n",
       "  <thead>\n",
       "    <tr style=\"text-align: right;\">\n",
       "      <th></th>\n",
       "      <th>uuid</th>\n",
       "      <th>name</th>\n",
       "      <th>address</th>\n",
       "      <th>email</th>\n",
       "      <th>state</th>\n",
       "      <th>age</th>\n",
       "    </tr>\n",
       "  </thead>\n",
       "  <tbody>\n",
       "    <tr>\n",
       "      <th>0</th>\n",
       "      <td>fe9cc0ae-1fc2-443e-98a5-65c01ff6c1f4</td>\n",
       "      <td>Alexander Mcdonald</td>\n",
       "      <td>562 Jeffrey Stream\\nNew Donna, NM 20879</td>\n",
       "      <td>sbell@example.net</td>\n",
       "      <td>Montana</td>\n",
       "      <td>89</td>\n",
       "    </tr>\n",
       "    <tr>\n",
       "      <th>1</th>\n",
       "      <td>8c401444-46af-4ffb-a961-772f49235eb4</td>\n",
       "      <td>Charles Anthony</td>\n",
       "      <td>6585 Fisher Track Apt. 627\\nMichaelbury, CO 46841</td>\n",
       "      <td>guerraalexa@example.net</td>\n",
       "      <td>Idaho</td>\n",
       "      <td>95</td>\n",
       "    </tr>\n",
       "    <tr>\n",
       "      <th>2</th>\n",
       "      <td>ebec130b-9bc9-4b88-9ebb-44ffd0ceb8eb</td>\n",
       "      <td>Dennis Mueller</td>\n",
       "      <td>947 Christine Isle Apt. 751\\nJosephmouth, IL 0...</td>\n",
       "      <td>crystal53@example.net</td>\n",
       "      <td>Michigan</td>\n",
       "      <td>22</td>\n",
       "    </tr>\n",
       "    <tr>\n",
       "      <th>3</th>\n",
       "      <td>d4df4064-0a79-4494-84e9-1a44751259c1</td>\n",
       "      <td>Joshua Chaney DDS</td>\n",
       "      <td>9364 Sullivan Bypass\\nNew Dorisshire, WA 90803</td>\n",
       "      <td>dillonteresa@example.net</td>\n",
       "      <td>Hawaii</td>\n",
       "      <td>19</td>\n",
       "    </tr>\n",
       "    <tr>\n",
       "      <th>4</th>\n",
       "      <td>808c6d3e-9779-49ef-8ff2-26168982ed59</td>\n",
       "      <td>Janice Smith</td>\n",
       "      <td>793 Daniel Lake\\nJohnsonfort, DE 54909</td>\n",
       "      <td>jennifer98@example.com</td>\n",
       "      <td>Texas</td>\n",
       "      <td>40</td>\n",
       "    </tr>\n",
       "    <tr>\n",
       "      <th>5</th>\n",
       "      <td>059a6fc6-14e7-4137-863c-286a085e534d</td>\n",
       "      <td>John Jackson DVM</td>\n",
       "      <td>51409 Shah Junction Suite 205\\nSouth Andrew, A...</td>\n",
       "      <td>ewilliamson@example.org</td>\n",
       "      <td>Nebraska</td>\n",
       "      <td>69</td>\n",
       "    </tr>\n",
       "    <tr>\n",
       "      <th>6</th>\n",
       "      <td>04746fd1-67d5-418e-b03e-017c3f46db43</td>\n",
       "      <td>Joseph Weber</td>\n",
       "      <td>0777 Edward Shore\\nEast Tiffany, VI 78929</td>\n",
       "      <td>scottdougherty@example.com</td>\n",
       "      <td>Missouri</td>\n",
       "      <td>30</td>\n",
       "    </tr>\n",
       "    <tr>\n",
       "      <th>7</th>\n",
       "      <td>6bd26c29-b67f-4b3b-81a6-f4b85aafb968</td>\n",
       "      <td>Kenneth Hernandez</td>\n",
       "      <td>433 Angela Flats\\nAnthonybury, NJ 71128</td>\n",
       "      <td>esparzakaren@example.net</td>\n",
       "      <td>Kentucky</td>\n",
       "      <td>30</td>\n",
       "    </tr>\n",
       "    <tr>\n",
       "      <th>8</th>\n",
       "      <td>f7ae721a-350f-4e87-bb5c-5e4d812eaf8b</td>\n",
       "      <td>Jonathan Knight</td>\n",
       "      <td>Unit 1822 Box 4953\\nDPO AE 34069</td>\n",
       "      <td>jonathanbauer@example.org</td>\n",
       "      <td>Vermont</td>\n",
       "      <td>72</td>\n",
       "    </tr>\n",
       "    <tr>\n",
       "      <th>9</th>\n",
       "      <td>455c346b-30d2-4a2a-b1e7-ca6ffc41835a</td>\n",
       "      <td>Ann Kelley</td>\n",
       "      <td>3593 Thompson Crossroad\\nMatthewmouth, GU 02123</td>\n",
       "      <td>urosario@example.org</td>\n",
       "      <td>Iowa</td>\n",
       "      <td>64</td>\n",
       "    </tr>\n",
       "    <tr>\n",
       "      <th>10</th>\n",
       "      <td>431aa2f3-b21e-4a8d-b047-9196f2dfee54</td>\n",
       "      <td>Hannah Martinez</td>\n",
       "      <td>805 Mary Spurs\\nJennifermouth, FL 66458</td>\n",
       "      <td>freemansusan@example.org</td>\n",
       "      <td>Oregon</td>\n",
       "      <td>96</td>\n",
       "    </tr>\n",
       "    <tr>\n",
       "      <th>11</th>\n",
       "      <td>c22369fc-c666-4ecf-b17a-65ccb05f173c</td>\n",
       "      <td>Tanya Bell</td>\n",
       "      <td>4823 Ferguson Camp Suite 163\\nPort Sarahhaven,...</td>\n",
       "      <td>coxtara@example.com</td>\n",
       "      <td>Virginia</td>\n",
       "      <td>98</td>\n",
       "    </tr>\n",
       "    <tr>\n",
       "      <th>12</th>\n",
       "      <td>50ba2623-58a7-4b7d-8fd4-38ca7cd4a497</td>\n",
       "      <td>Jessica Suarez</td>\n",
       "      <td>95416 Ryan Lake\\nMatthewchester, MI 44135</td>\n",
       "      <td>alexander66@example.org</td>\n",
       "      <td>Louisiana</td>\n",
       "      <td>27</td>\n",
       "    </tr>\n",
       "    <tr>\n",
       "      <th>13</th>\n",
       "      <td>36095bd0-8df8-453e-93d9-b9e6635dae6a</td>\n",
       "      <td>David Tucker</td>\n",
       "      <td>Unit 5993 Box 0972\\nDPO AP 50024</td>\n",
       "      <td>bakeralison@example.com</td>\n",
       "      <td>New Hampshire</td>\n",
       "      <td>37</td>\n",
       "    </tr>\n",
       "    <tr>\n",
       "      <th>14</th>\n",
       "      <td>34a67238-53e6-4ef4-a282-3b63c30836b9</td>\n",
       "      <td>John Wall</td>\n",
       "      <td>1994 Nicholas Garden Apt. 061\\nThomasfort, VI ...</td>\n",
       "      <td>fmurillo@example.com</td>\n",
       "      <td>South Carolina</td>\n",
       "      <td>73</td>\n",
       "    </tr>\n",
       "    <tr>\n",
       "      <th>15</th>\n",
       "      <td>fb4c309a-9c21-4cf3-a40c-b22e218bff7a</td>\n",
       "      <td>Robert Saunders</td>\n",
       "      <td>87243 Stephens Mills Apt. 573\\nTammyborough, G...</td>\n",
       "      <td>nathaniel29@example.org</td>\n",
       "      <td>Michigan</td>\n",
       "      <td>29</td>\n",
       "    </tr>\n",
       "    <tr>\n",
       "      <th>16</th>\n",
       "      <td>b7826863-b05c-41c2-85bd-6a3b1a315189</td>\n",
       "      <td>Michael Taylor</td>\n",
       "      <td>484 Brent Mission\\nRichardsonstad, WY 48911</td>\n",
       "      <td>aaronhodge@example.org</td>\n",
       "      <td>New Hampshire</td>\n",
       "      <td>66</td>\n",
       "    </tr>\n",
       "    <tr>\n",
       "      <th>17</th>\n",
       "      <td>c876cbb0-dfb4-4b31-a678-d700774f4f1c</td>\n",
       "      <td>Tonya Tate</td>\n",
       "      <td>53782 Elaine Mews Suite 074\\nSouth Amberberg, ...</td>\n",
       "      <td>amandagutierrez@example.net</td>\n",
       "      <td>Michigan</td>\n",
       "      <td>65</td>\n",
       "    </tr>\n",
       "    <tr>\n",
       "      <th>18</th>\n",
       "      <td>8c1523f3-28cb-4acb-ab56-6202b4b57721</td>\n",
       "      <td>Tiffany Rivera</td>\n",
       "      <td>641 Manning Green\\nSouth Katelyn, TX 14660</td>\n",
       "      <td>ttaylor@example.net</td>\n",
       "      <td>Arizona</td>\n",
       "      <td>68</td>\n",
       "    </tr>\n",
       "    <tr>\n",
       "      <th>19</th>\n",
       "      <td>3f5939e7-3b7b-4204-811b-4d9324dcdd8a</td>\n",
       "      <td>Sierra Finley</td>\n",
       "      <td>8099 Martin Neck Apt. 796\\nRobertview, HI 83209</td>\n",
       "      <td>wardnicole@example.org</td>\n",
       "      <td>Alaska</td>\n",
       "      <td>88</td>\n",
       "    </tr>\n",
       "  </tbody>\n",
       "</table>\n",
       "</div>"
      ],
      "text/plain": [
       "                                    uuid                name  \\\n",
       "0   fe9cc0ae-1fc2-443e-98a5-65c01ff6c1f4  Alexander Mcdonald   \n",
       "1   8c401444-46af-4ffb-a961-772f49235eb4     Charles Anthony   \n",
       "2   ebec130b-9bc9-4b88-9ebb-44ffd0ceb8eb      Dennis Mueller   \n",
       "3   d4df4064-0a79-4494-84e9-1a44751259c1   Joshua Chaney DDS   \n",
       "4   808c6d3e-9779-49ef-8ff2-26168982ed59        Janice Smith   \n",
       "5   059a6fc6-14e7-4137-863c-286a085e534d    John Jackson DVM   \n",
       "6   04746fd1-67d5-418e-b03e-017c3f46db43        Joseph Weber   \n",
       "7   6bd26c29-b67f-4b3b-81a6-f4b85aafb968   Kenneth Hernandez   \n",
       "8   f7ae721a-350f-4e87-bb5c-5e4d812eaf8b     Jonathan Knight   \n",
       "9   455c346b-30d2-4a2a-b1e7-ca6ffc41835a          Ann Kelley   \n",
       "10  431aa2f3-b21e-4a8d-b047-9196f2dfee54     Hannah Martinez   \n",
       "11  c22369fc-c666-4ecf-b17a-65ccb05f173c          Tanya Bell   \n",
       "12  50ba2623-58a7-4b7d-8fd4-38ca7cd4a497      Jessica Suarez   \n",
       "13  36095bd0-8df8-453e-93d9-b9e6635dae6a        David Tucker   \n",
       "14  34a67238-53e6-4ef4-a282-3b63c30836b9           John Wall   \n",
       "15  fb4c309a-9c21-4cf3-a40c-b22e218bff7a     Robert Saunders   \n",
       "16  b7826863-b05c-41c2-85bd-6a3b1a315189      Michael Taylor   \n",
       "17  c876cbb0-dfb4-4b31-a678-d700774f4f1c          Tonya Tate   \n",
       "18  8c1523f3-28cb-4acb-ab56-6202b4b57721      Tiffany Rivera   \n",
       "19  3f5939e7-3b7b-4204-811b-4d9324dcdd8a       Sierra Finley   \n",
       "\n",
       "                                              address  \\\n",
       "0             562 Jeffrey Stream\\nNew Donna, NM 20879   \n",
       "1   6585 Fisher Track Apt. 627\\nMichaelbury, CO 46841   \n",
       "2   947 Christine Isle Apt. 751\\nJosephmouth, IL 0...   \n",
       "3      9364 Sullivan Bypass\\nNew Dorisshire, WA 90803   \n",
       "4              793 Daniel Lake\\nJohnsonfort, DE 54909   \n",
       "5   51409 Shah Junction Suite 205\\nSouth Andrew, A...   \n",
       "6           0777 Edward Shore\\nEast Tiffany, VI 78929   \n",
       "7             433 Angela Flats\\nAnthonybury, NJ 71128   \n",
       "8                    Unit 1822 Box 4953\\nDPO AE 34069   \n",
       "9     3593 Thompson Crossroad\\nMatthewmouth, GU 02123   \n",
       "10            805 Mary Spurs\\nJennifermouth, FL 66458   \n",
       "11  4823 Ferguson Camp Suite 163\\nPort Sarahhaven,...   \n",
       "12          95416 Ryan Lake\\nMatthewchester, MI 44135   \n",
       "13                   Unit 5993 Box 0972\\nDPO AP 50024   \n",
       "14  1994 Nicholas Garden Apt. 061\\nThomasfort, VI ...   \n",
       "15  87243 Stephens Mills Apt. 573\\nTammyborough, G...   \n",
       "16        484 Brent Mission\\nRichardsonstad, WY 48911   \n",
       "17  53782 Elaine Mews Suite 074\\nSouth Amberberg, ...   \n",
       "18         641 Manning Green\\nSouth Katelyn, TX 14660   \n",
       "19    8099 Martin Neck Apt. 796\\nRobertview, HI 83209   \n",
       "\n",
       "                          email           state  age  \n",
       "0             sbell@example.net         Montana   89  \n",
       "1       guerraalexa@example.net           Idaho   95  \n",
       "2         crystal53@example.net        Michigan   22  \n",
       "3      dillonteresa@example.net          Hawaii   19  \n",
       "4        jennifer98@example.com           Texas   40  \n",
       "5       ewilliamson@example.org        Nebraska   69  \n",
       "6    scottdougherty@example.com        Missouri   30  \n",
       "7      esparzakaren@example.net        Kentucky   30  \n",
       "8     jonathanbauer@example.org         Vermont   72  \n",
       "9          urosario@example.org            Iowa   64  \n",
       "10     freemansusan@example.org          Oregon   96  \n",
       "11          coxtara@example.com        Virginia   98  \n",
       "12      alexander66@example.org       Louisiana   27  \n",
       "13      bakeralison@example.com   New Hampshire   37  \n",
       "14         fmurillo@example.com  South Carolina   73  \n",
       "15      nathaniel29@example.org        Michigan   29  \n",
       "16       aaronhodge@example.org   New Hampshire   66  \n",
       "17  amandagutierrez@example.net        Michigan   65  \n",
       "18          ttaylor@example.net         Arizona   68  \n",
       "19       wardnicole@example.org          Alaska   88  "
      ]
     },
     "execution_count": 19,
     "metadata": {},
     "output_type": "execute_result"
    }
   ],
   "source": [
    "fake_df"
   ]
  },
  {
   "cell_type": "markdown",
   "id": "6ba6dcd8",
   "metadata": {},
   "source": [
    "## Now I'm going to \"score\" the users through my models\n",
    "This will just show what it looks like when each predictive model is called for each user.   So you can see how easy it is to determine when one is called vs. the other"
   ]
  },
  {
   "cell_type": "code",
   "execution_count": 20,
   "id": "67aa4349",
   "metadata": {},
   "outputs": [
    {
     "name": "stdout",
     "output_type": "stream",
     "text": [
      "1\n",
      "0.9843663225155657\n",
      "1\n",
      "0.8407144341288456\n",
      "1\n",
      "0.8410749303871318\n",
      "1\n",
      "0.7804944414432007\n",
      "1\n",
      "0.48801825331924864\n",
      "1\n",
      "0.20247056827609455\n",
      "1\n",
      "0.5937496672988494\n",
      "1\n",
      "0.6517001148753094\n",
      "1\n",
      "0.09174711865485874\n",
      "1\n",
      "0.48244434080636167\n",
      "1\n",
      "0.9281835530639727\n",
      "1\n",
      "0.2758185908988121\n",
      "1\n",
      "0.5045922752568389\n",
      "1\n",
      "0.04114012053869509\n",
      "1\n",
      "0.5617729967953532\n",
      "1\n",
      "0.3753677375977935\n",
      "1\n",
      "0.33445719842000177\n",
      "1\n",
      "0.5284605068171215\n",
      "1\n",
      "0.887360325398894\n",
      "1\n",
      "0.027395892708526826\n"
     ]
    }
   ],
   "source": [
    "for index, row in fake_df.iterrows():\n",
    "    print(predict(row['name'], row['age'], row['state']))\n",
    "    print(predict_v2(row['name'], row['age'], row['state']))"
   ]
  },
  {
   "cell_type": "markdown",
   "id": "2ce9e885",
   "metadata": {},
   "source": [
    "# Time to Launch............ DARKLY"
   ]
  },
  {
   "cell_type": "code",
   "execution_count": 21,
   "id": "6499ca60",
   "metadata": {},
   "outputs": [],
   "source": [
    "# This is what we'll need to be able to connect to the LD client\n",
    "import ldclient\n",
    "from ldclient import Context\n",
    "from ldclient.config import Config"
   ]
  },
  {
   "cell_type": "markdown",
   "id": "98c65c39",
   "metadata": {},
   "source": [
    "### The Client Key is a thing I get from the Launch Darkly UI.   \n",
    "### The SSL thing is something I just do to bypass errors and hopefully Technology will fix someday"
   ]
  },
  {
   "cell_type": "code",
   "execution_count": 22,
   "id": "2dcdbdc4",
   "metadata": {},
   "outputs": [],
   "source": [
    "sdk_key = 'sdk-2a245c80-ec4d-47ef-93b4-e3536e402197'"
   ]
  },
  {
   "cell_type": "code",
   "execution_count": 23,
   "id": "1acd952c",
   "metadata": {},
   "outputs": [],
   "source": [
    "ldclient.set_config(Config(sdk_key = sdk_key, http=ldclient.config.HTTPConfig(disable_ssl_verification=True)))"
   ]
  },
  {
   "cell_type": "markdown",
   "id": "db494cfd",
   "metadata": {},
   "source": [
    "## Here is where we make the long-term client connection\n",
    "This is the connection object that keeps the flag rules up to date from the SaaS service to our local environment."
   ]
  },
  {
   "cell_type": "code",
   "execution_count": 24,
   "id": "2dc70ee8",
   "metadata": {},
   "outputs": [
    {
     "name": "stdout",
     "output_type": "stream",
     "text": [
      "SDK successfully initialized!\n"
     ]
    }
   ],
   "source": [
    "if ldclient.get().is_initialized():\n",
    "    print(\"SDK successfully initialized!\")\n",
    "else:\n",
    "    print(\"SDK failed to initialize\")"
   ]
  },
  {
   "cell_type": "code",
   "execution_count": 25,
   "id": "6d484824",
   "metadata": {},
   "outputs": [],
   "source": [
    "contexts = []\n",
    "for _, row in fake_df.iterrows():\n",
    "    context = {\n",
    "        'key': row['uuid'],  \n",
    "        'name': row['name'],\n",
    "        'address': row['address'],\n",
    "        'email': row['email'],\n",
    "        'state':row['state'],\n",
    "        'age':row['age']\n",
    "    }\n",
    "    contexts.append(context)"
   ]
  },
  {
   "cell_type": "markdown",
   "id": "a0f1ec11",
   "metadata": {},
   "source": [
    "This is the flag name from the Launch Darkly UI that was created when I did the flag rule.   I'll pull up the UI here and show you the flag, and it's rules, and it's status"
   ]
  },
  {
   "cell_type": "code",
   "execution_count": 26,
   "id": "b72e9b95",
   "metadata": {},
   "outputs": [],
   "source": [
    "flag_name = 'policy-bind-model'"
   ]
  },
  {
   "attachments": {
    "99bbde11-f8b0-4918-ae93-d8693a54e9b2.jpg": {
     "image/jpeg": "[encoded data removed]"
    }
   },
   "cell_type": "markdown",
   "id": "d1458807",
   "metadata": {},
   "source": [
    "![./img/Harry_Under_The_Stairs.jpg](attachment:99bbde11-f8b0-4918-ae93-d8693a54e9b2.jpg)\n",
    "\n",
    "## The code below will loop through the fake user contexts that we created above, create a Launch Darkly context, and evaluate the flag\n",
    "In order to be able to have some time in between \"model score\" calls so we can demonstrate the ability to change flag rules in the UI, I've added a second sleep\n",
    "which whould allow to toggle rules on/off, or make rule changes, and show how fast the LDClient object is able to respond.   "
   ]
  },
  {
   "cell_type": "code",
   "execution_count": 33,
   "id": "5ebfe39c",
   "metadata": {},
   "outputs": [
    {
     "name": "stdout",
     "output_type": "stream",
     "text": [
      "Name:  Alexander Mcdonald Age:  89 State:  Montana Score:  1 Detail:  {'kind': 'FALLTHROUGH'}\n",
      "Name:  Charles Anthony Age:  95 State:  Idaho Score:  1 Detail:  {'kind': 'FALLTHROUGH'}\n",
      "Name:  Dennis Mueller Age:  22 State:  Michigan Score:  0.2553708288363613 Detail:  {'kind': 'RULE_MATCH', 'ruleIndex': 0, 'ruleId': '564a4252-9957-46dc-a90c-cf992fcea3ef'}\n",
      "Name:  Joshua Chaney DDS Age:  19 State:  Hawaii Score:  1 Detail:  {'kind': 'FALLTHROUGH'}\n",
      "Name:  Janice Smith Age:  40 State:  Texas Score:  1 Detail:  {'kind': 'RULE_MATCH', 'ruleIndex': 1, 'ruleId': 'a3095a22-32b1-49b6-abad-ece8d878a16c'}\n",
      "Name:  John Jackson DVM Age:  69 State:  Nebraska Score:  0.05887867511768008 Detail:  {'kind': 'RULE_MATCH', 'ruleIndex': 0, 'ruleId': '564a4252-9957-46dc-a90c-cf992fcea3ef'}\n",
      "Name:  Joseph Weber Age:  30 State:  Missouri Score:  0.3560917987904404 Detail:  {'kind': 'RULE_MATCH', 'ruleIndex': 0, 'ruleId': '564a4252-9957-46dc-a90c-cf992fcea3ef'}\n",
      "Name:  Kenneth Hernandez Age:  30 State:  Kentucky Score:  1 Detail:  {'kind': 'FALLTHROUGH'}\n",
      "Name:  Jonathan Knight Age:  72 State:  Vermont Score:  1 Detail:  {'kind': 'FALLTHROUGH'}\n",
      "Name:  Ann Kelley Age:  64 State:  Iowa Score:  0.35455353117271116 Detail:  {'kind': 'RULE_MATCH', 'ruleIndex': 0, 'ruleId': '564a4252-9957-46dc-a90c-cf992fcea3ef'}\n",
      "Name:  Hannah Martinez Age:  96 State:  Oregon Score:  1 Detail:  {'kind': 'FALLTHROUGH'}\n",
      "Name:  Tanya Bell Age:  98 State:  Virginia Score:  1 Detail:  {'kind': 'FALLTHROUGH'}\n",
      "Name:  Jessica Suarez Age:  27 State:  Louisiana Score:  1 Detail:  {'kind': 'FALLTHROUGH'}\n",
      "Name:  David Tucker Age:  37 State:  New Hampshire Score:  1 Detail:  {'kind': 'FALLTHROUGH'}\n",
      "Name:  John Wall Age:  73 State:  South Carolina Score:  1 Detail:  {'kind': 'FALLTHROUGH'}\n",
      "Name:  Robert Saunders Age:  29 State:  Michigan Score:  0.7989934731710251 Detail:  {'kind': 'RULE_MATCH', 'ruleIndex': 0, 'ruleId': '564a4252-9957-46dc-a90c-cf992fcea3ef'}\n",
      "Name:  Michael Taylor Age:  66 State:  New Hampshire Score:  1 Detail:  {'kind': 'FALLTHROUGH'}\n",
      "Name:  Tonya Tate Age:  65 State:  Michigan Score:  0.6444928227271715 Detail:  {'kind': 'RULE_MATCH', 'ruleIndex': 0, 'ruleId': '564a4252-9957-46dc-a90c-cf992fcea3ef'}\n",
      "Name:  Tiffany Rivera Age:  68 State:  Arizona Score:  1 Detail:  {'kind': 'RULE_MATCH', 'ruleIndex': 1, 'ruleId': 'a3095a22-32b1-49b6-abad-ece8d878a16c'}\n",
      "Name:  Sierra Finley Age:  88 State:  Alaska Score:  1 Detail:  {'kind': 'FALLTHROUGH'}\n"
     ]
    }
   ],
   "source": [
    "for index, element in enumerate(contexts):\n",
    "    context = Context.builder(element['key']) \\\n",
    "       .set(\"state\", element['state']).build()\n",
    "    model_variation_detail = ldclient.get().variation_detail(flag_name, context, 'Current')\n",
    "\n",
    "    if (model_variation_detail.value == 'Current'):\n",
    "        score = predict(element['name'], element['age'], element['state'])\n",
    "    elif (model_variation_detail.value == 'New'):    \n",
    "        score = predict_v2(element['name'], element['age'], element['state'])\n",
    "\n",
    "    print (\"Name: \", element['name'], \n",
    "           \"Age: \", element['age'], \n",
    "           \"State: \", element['state'], \n",
    "           \"Score: \", score, \n",
    "           \"Detail: \", model_variation_detail.reason)\n",
    "    time.sleep(1)"
   ]
  },
  {
   "cell_type": "markdown",
   "id": "fe011a66",
   "metadata": {},
   "source": []
  }
 ],
 "metadata": {
  "kernelspec": {
   "display_name": "Python 3 (ipykernel)",
   "language": "python",
   "name": "python3"
  },
  "language_info": {
   "codemirror_mode": {
    "name": "ipython",
    "version": 3
   },
   "file_extension": ".py",
   "mimetype": "text/x-python",
   "name": "python",
   "nbconvert_exporter": "python",
   "pygments_lexer": "ipython3",
   "version": "3.8.3"
  }
 },
 "nbformat": 4,
 "nbformat_minor": 5
}
